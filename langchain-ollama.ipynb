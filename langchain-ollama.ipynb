{
 "cells": [
  {
   "cell_type": "code",
   "execution_count": 8,
   "metadata": {},
   "outputs": [],
   "source": [
    "from langchain_ollama import ChatOllama\n",
    "from amadeus import Client, ResponseError\n",
    "from langchain.agents import initialize_agent, load_tools\n",
    "from langchain.agents import AgentType\n",
    "from langchain.prompts import PromptTemplate\n",
    "from langchain.pydantic_v1 import BaseModel, Field\n",
    "from langchain.tools import BaseTool, StructuredTool, tool\n",
    "from langchain.agents import initialize_agent\n",
    "from langchain.chains.conversation.memory import ConversationBufferWindowMemory\n",
    "from langchain.agents import Tool\n",
    "\n"
   ]
  },
  {
   "cell_type": "code",
   "execution_count": 9,
   "metadata": {},
   "outputs": [],
   "source": [
    "llm = ChatOllama(\n",
    "    model=\"llama3-groq-tool-use\",\n",
    "    temperature=0,\n",
    ")"
   ]
  },
  {
   "cell_type": "code",
   "execution_count": null,
   "metadata": {},
   "outputs": [],
   "source": []
  },
  {
   "cell_type": "code",
   "execution_count": 10,
   "metadata": {},
   "outputs": [],
   "source": [
    "\n",
    "\n",
    "class FlightSearchSchema(BaseModel):\n",
    "    originLocationCode: str = Field(..., description=\"First airport code\")\n",
    "    destinationLocationCode: str = Field(..., description=\"Second airport code\")\n",
    "    departureDate: str = Field(..., description=\"Date of departure\")\n",
    "    adults: int = Field(..., description=\"Number of adults\")\n",
    "\n",
    "@tool\n",
    "def flight_search(query: str):\n",
    "    \"\"\"\n",
    "    Searches flights based on the provided parameters.\n",
    "    The query should include origin, destination, departure date, and number of adults.\n",
    "    \"\"\"\n",
    "    # Parse the query string into individual parameters\n",
    "    params = {}\n",
    "    for param in query.split(','):\n",
    "        key, value = param.strip().split(':')\n",
    "        params[key.strip()] = value.strip()\n",
    "    \n",
    "    try:\n",
    "        # Validate and create FlightSearchSchema instance\n",
    "        search_params = FlightSearchSchema(\n",
    "            originLocationCode=params['originLocationCode'],\n",
    "            destinationLocationCode=params['destinationLocationCode'],\n",
    "            departureDate=params['departureDate'],\n",
    "            adults=int(params['adults'])\n",
    "        )\n",
    "        \n",
    "        amadeus = Client(\n",
    "            client_id='5G1CNwDfyBXnZuKLoAkicMoqgEqn26Ex',\n",
    "            client_secret='0yDZezKgpgNP215B'\n",
    "        )\n",
    "        \n",
    "        response = amadeus.shopping.flight_offers_search.get(\n",
    "            originLocationCode=search_params.originLocationCode,\n",
    "            destinationLocationCode=search_params.destinationLocationCode,\n",
    "            departureDate=search_params.departureDate,\n",
    "            adults=search_params.adults\n",
    "        )\n",
    "        return str(response.data)  # Convert to string for easier handling\n",
    "    except KeyError as e:\n",
    "        return f\"Missing parameter: {str(e)}\"\n",
    "    except ValueError as e:\n",
    "        return f\"Invalid parameter value: {str(e)}\"\n",
    "    except ResponseError as error:\n",
    "        return f\"API error: {error.response.body}\""
   ]
  },
  {
   "cell_type": "code",
   "execution_count": 11,
   "metadata": {},
   "outputs": [],
   "source": [
    "flight_search = Tool(\n",
    "    name='flight_search',\n",
    "    func=flight_search,\n",
    "    description=\"\"\"\n",
    "    Searches for flights based on provided parameters. \n",
    "    Input should be a string with comma-separated key-value pairs: \n",
    "    'originLocationCode: XXX, destinationLocationCode: YYY, departureDate: YYYY-MM-DD, adults: N'\n",
    "    Convert city names to airport codes before using. \n",
    "    If any required information is missing, ask the user for it.\n",
    "    \"\"\"\n",
    ")"
   ]
  },
  {
   "cell_type": "code",
   "execution_count": 12,
   "metadata": {},
   "outputs": [],
   "source": [
    "\n",
    "tools = [flight_search]\n",
    "\n",
    "# conversational agent memory\n",
    "memory = ConversationBufferWindowMemory(\n",
    "    memory_key='chat_history',\n",
    "    k=3,\n",
    "    return_messages=True\n",
    ")\n",
    "\n",
    "\n",
    "# create our agent\n",
    "conversational_agent = initialize_agent(\n",
    "    agent='chat-conversational-react-description',\n",
    "    tools=tools,\n",
    "    llm=llm,\n",
    "    verbose=True,\n",
    "    max_iterations=3,\n",
    "    early_stopping_method='generate',\n",
    "    memory=memory\n",
    ")"
   ]
  },
  {
   "cell_type": "code",
   "execution_count": 14,
   "metadata": {},
   "outputs": [
    {
     "name": "stdout",
     "output_type": "stream",
     "text": [
      "\n",
      "\n",
      "\u001b[1m> Entering new AgentExecutor chain...\u001b[0m\n",
      "\u001b[32;1m\u001b[1;3m```json\n",
      "{\n",
      "    \"action\": \"flight_search\",\n",
      "    \"action_input\": \"originLocationCode: JFK, destinationLocationCode: BOM, departureDate: 2023-08-25, adults: 1\"\n",
      "}\n",
      "```\u001b[0m\n",
      "Observation: \u001b[36;1m\u001b[1;3mAPI error: {\"errors\":[{\"status\":400,\"code\":425,\"title\":\"INVALID DATE\",\"detail\":\"Date/Time is in the past\",\"source\":{}}]}\u001b[0m\n",
      "Thought:\u001b[32;1m\u001b[1;3m```json\n",
      "{\n",
      "    \"action\": \"Final Answer\",\n",
      "    \"action_input\": \"The date you provided is in the past. Please provide a valid future departure date.\"\n",
      "}\n",
      "```\u001b[0m\n",
      "\n",
      "\u001b[1m> Finished chain.\u001b[0m\n"
     ]
    },
    {
     "data": {
      "text/plain": [
       "{'input': 'give me flights from nyc to bom.give me top 5 flights on 25th august',\n",
       " 'chat_history': [HumanMessage(content='give me flights from nyc to bom.give me top 5 flights'),\n",
       "  AIMessage(content='The date you provided is in the past. Please provide a valid future departure date.')],\n",
       " 'output': 'The date you provided is in the past. Please provide a valid future departure date.'}"
      ]
     },
     "execution_count": 14,
     "metadata": {},
     "output_type": "execute_result"
    }
   ],
   "source": [
    "conversational_agent(\"give me flights from nyc to bom.give me top 5 flights on 25th august\")"
   ]
  }
 ],
 "metadata": {
  "kernelspec": {
   "display_name": "Python 3",
   "language": "python",
   "name": "python3"
  },
  "language_info": {
   "codemirror_mode": {
    "name": "ipython",
    "version": 3
   },
   "file_extension": ".py",
   "mimetype": "text/x-python",
   "name": "python",
   "nbconvert_exporter": "python",
   "pygments_lexer": "ipython3",
   "version": "3.10.0"
  }
 },
 "nbformat": 4,
 "nbformat_minor": 2
}
